{
 "cells": [
  {
   "cell_type": "markdown",
   "id": "923d36a0-e2a6-4b0c-925c-26cc82ab83de",
   "metadata": {},
   "source": [
    "<h1>Data Science Tools and Ecosystem</h1>"
   ]
  },
  {
   "cell_type": "markdown",
   "id": "e7d34869-6944-4810-99b3-8565899f63d3",
   "metadata": {},
   "source": [
    "<p>In this notebook, Data Science Tools and Ecosystem are summarized.<p>"
   ]
  },
  {
   "cell_type": "markdown",
   "id": "b70f4d44-9d1d-478c-b2c4-c89ffb3548da",
   "metadata": {},
   "source": [
    "Some of the popular languages that Data Scientists use are:\n",
    "<ol>\n",
    "    <li>Python.</li>\n",
    "    <li>R.</li>\n",
    "    <li>SQL.</li>\n",
    "    <li>Java.</li>\n",
    "    <li>Julia.</li>\n",
    "    <li>Scala.</li>\n",
    "    <li>C/C++.</li>\n",
    "    <li>JavaScript.</li>\n",
    "</ol>"
   ]
  },
  {
   "cell_type": "markdown",
   "id": "2e8b74f4-a66d-4743-af1a-09779f2c20a9",
   "metadata": {
    "tags": []
   },
   "source": [
    "Some of the commonly used libraries used by Data Scientists include:\n",
    "<ol>\n",
    "    <li>TensorFlow.</li>\n",
    "    <li>NumPy.</li>\n",
    "    <li>Pandas.</li>\n",
    "    <li>SciPy.</li>\n",
    "    <li>Matplotlib.</li>\n",
    "    <li>Keras.</li>\n",
    "    <li>SciKit-Learn.</li>\n",
    "    <li>PyTorch.</li>\n",
    "    <li>Scrapy.</li>\n",
    "    <li>BeautifulSoup.</li>\n",
    "    <li>LightGBM.</li>\n",
    "    <li>ELI5.</li>\n",
    "    <li>Theano.</li>\n",
    "    <li>NuPIC.</li>\n",
    "    <li>Ramp.</li>\n",
    "    <li>Pipenv.</li>\n",
    "    <li>Bob.</li>\n",
    "    <li>PyBrain.</li>\n",
    "    <li>Caffe2.</li>\n",
    "    <li>Chainer.</li>\n",
    "</ol>"
   ]
  },
  {
   "cell_type": "markdown",
   "id": "2c8fc226-fffe-4a4d-92d9-f5b087483a3a",
   "metadata": {},
   "source": [
    "\n",
    "<table style=\"width:100%\">\n",
    "  <tr>\n",
    "    <th>Data Science Tools</th>\n",
    "    <th></th>\n",
    "    <th></th>\n",
    "  </tr>\n",
    "  <tr>\n",
    "    <td>SAS. It is one of those data science tools which are specifically designed for statistical operation</td>\n",
    "    <td></td>\n",
    "    <td></td>\n",
    "  </tr>\n",
    "  <tr>\n",
    "    <td>Apache Spark</td>\n",
    "    <td></td>\n",
    "    <td></td>\n",
    "  </tr>\n",
    "  <tr>\n",
    "    <td>BigML</td>\n",
    "    <td></td>\n",
    "    <td></td>\n",
    "  </tr>\n",
    "</table>"
   ]
  },
  {
   "cell_type": "markdown",
   "id": "75c21762-64cf-4204-bf9d-02e05f853d42",
   "metadata": {},
   "source": [
    "<h3>Below are a few examples of evaluating arithmetic expressions in Python</h3>"
   ]
  },
  {
   "cell_type": "code",
   "execution_count": 9,
   "id": "70d69309-fca5-421b-940e-8f86f4f39224",
   "metadata": {
    "tags": []
   },
   "outputs": [
    {
     "data": {
      "text/plain": [
       "17"
      ]
     },
     "execution_count": 9,
     "metadata": {},
     "output_type": "execute_result"
    }
   ],
   "source": [
    " #This a simple arithmetic expression to mutiply then add integers\n",
    "(3*4)+5"
   ]
  },
  {
   "cell_type": "code",
   "execution_count": 10,
   "id": "1f701431-6da5-472e-aa4e-d02c0b8e141e",
   "metadata": {
    "tags": []
   },
   "outputs": [
    {
     "name": "stdout",
     "output_type": "stream",
     "text": [
      "0 days, 3.3333333333333335 hours, 0 mins. \n"
     ]
    }
   ],
   "source": [
    "#This will convert 200 minutes to hours by diving by 60\n",
    "days = 0\n",
    "hours = 0\n",
    "mins = 0\n",
    "time = 200\n",
    "#days = time / 1440\n",
    "leftover_minutes = time % 1440\n",
    "hours = leftover_minutes / 60\n",
    "#mins = time - (days*1440) - (hours*60)\n",
    "print(str(days) + \" days, \" + str(hours) + \" hours, \" + str(mins) +  \" mins. \")"
   ]
  },
  {
   "cell_type": "markdown",
   "id": "5e3ac5e2-c897-49a3-9a72-f43a0a84cab4",
   "metadata": {},
   "source": [
    "**Objectives:**\n",
    "- List popular languages for Data Science\n",
    "- Understand the basics of Data Cleaning\n",
    "- Explore Data Visualization techniques\n",
    "- Implement Machine Learning models\n",
    "- Evaluate model performance"
   ]
  },
  {
   "cell_type": "markdown",
   "id": "fbc7fed5-e459-4407-87a0-9aa1da723827",
   "metadata": {},
   "source": [
    "<h2> Author </h2>\n",
    "\n",
    "Vikas Kumar Jha"
   ]
  },
  {
   "cell_type": "code",
   "execution_count": null,
   "id": "32e41b28-8d25-494a-ad66-0f7001f0c204",
   "metadata": {},
   "outputs": [],
   "source": []
  }
 ],
 "metadata": {
  "kernelspec": {
   "display_name": "Python 3 (ipykernel)",
   "language": "python",
   "name": "python3"
  },
  "language_info": {
   "codemirror_mode": {
    "name": "ipython",
    "version": 3
   },
   "file_extension": ".py",
   "mimetype": "text/x-python",
   "name": "python",
   "nbconvert_exporter": "python",
   "pygments_lexer": "ipython3",
   "version": "3.11.5"
  }
 },
 "nbformat": 4,
 "nbformat_minor": 5
}
